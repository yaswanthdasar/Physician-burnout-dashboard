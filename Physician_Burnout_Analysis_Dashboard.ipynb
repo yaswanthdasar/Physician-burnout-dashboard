{
 "cells": [
  {
   "cell_type": "code",
   "execution_count": 2,
   "metadata": {
    "colab": {
     "base_uri": "https://localhost:8080/"
    },
    "id": "lwsDJziEvc_H",
    "outputId": "e9a36bb7-bbaf-43dd-8968-882b60becfc5"
   },
   "outputs": [
    {
     "name": "stdout",
     "output_type": "stream",
     "text": [
      "Collecting dash\n",
      "  Downloading dash-2.18.2-py3-none-any.whl.metadata (10 kB)\n",
      "Requirement already satisfied: Flask<3.1,>=1.0.4 in c:\\users\\yaswa\\anaconda3\\lib\\site-packages (from dash) (2.2.5)\n",
      "Requirement already satisfied: Werkzeug<3.1 in c:\\users\\yaswa\\anaconda3\\lib\\site-packages (from dash) (2.2.3)\n",
      "Requirement already satisfied: plotly>=5.0.0 in c:\\users\\yaswa\\anaconda3\\lib\\site-packages (from dash) (5.9.0)\n",
      "Collecting dash-html-components==2.0.0 (from dash)\n",
      "  Downloading dash_html_components-2.0.0-py3-none-any.whl.metadata (3.8 kB)\n",
      "Collecting dash-core-components==2.0.0 (from dash)\n",
      "  Downloading dash_core_components-2.0.0-py3-none-any.whl.metadata (2.9 kB)\n",
      "Collecting dash-table==5.0.0 (from dash)\n",
      "  Downloading dash_table-5.0.0-py3-none-any.whl.metadata (2.4 kB)\n",
      "Requirement already satisfied: importlib-metadata in c:\\users\\yaswa\\anaconda3\\lib\\site-packages (from dash) (7.0.1)\n",
      "Requirement already satisfied: typing-extensions>=4.1.1 in c:\\users\\yaswa\\appdata\\roaming\\python\\python311\\site-packages (from dash) (4.12.2)\n",
      "Requirement already satisfied: requests in c:\\users\\yaswa\\anaconda3\\lib\\site-packages (from dash) (2.31.0)\n",
      "Collecting retrying (from dash)\n",
      "  Downloading retrying-1.3.4-py3-none-any.whl.metadata (6.9 kB)\n",
      "Requirement already satisfied: nest-asyncio in c:\\users\\yaswa\\appdata\\roaming\\python\\python311\\site-packages (from dash) (1.6.0)\n",
      "Requirement already satisfied: setuptools in c:\\users\\yaswa\\anaconda3\\lib\\site-packages (from dash) (68.2.2)\n",
      "Requirement already satisfied: Jinja2>=3.0 in c:\\users\\yaswa\\anaconda3\\lib\\site-packages (from Flask<3.1,>=1.0.4->dash) (3.1.3)\n",
      "Requirement already satisfied: itsdangerous>=2.0 in c:\\users\\yaswa\\anaconda3\\lib\\site-packages (from Flask<3.1,>=1.0.4->dash) (2.0.1)\n",
      "Requirement already satisfied: click>=8.0 in c:\\users\\yaswa\\anaconda3\\lib\\site-packages (from Flask<3.1,>=1.0.4->dash) (8.1.7)\n",
      "Requirement already satisfied: tenacity>=6.2.0 in c:\\users\\yaswa\\anaconda3\\lib\\site-packages (from plotly>=5.0.0->dash) (8.2.2)\n",
      "Requirement already satisfied: MarkupSafe>=2.1.1 in c:\\users\\yaswa\\anaconda3\\lib\\site-packages (from Werkzeug<3.1->dash) (2.1.3)\n",
      "Requirement already satisfied: zipp>=0.5 in c:\\users\\yaswa\\anaconda3\\lib\\site-packages (from importlib-metadata->dash) (3.17.0)\n",
      "Requirement already satisfied: charset-normalizer<4,>=2 in c:\\users\\yaswa\\anaconda3\\lib\\site-packages (from requests->dash) (2.0.4)\n",
      "Requirement already satisfied: idna<4,>=2.5 in c:\\users\\yaswa\\anaconda3\\lib\\site-packages (from requests->dash) (3.4)\n",
      "Requirement already satisfied: urllib3<3,>=1.21.1 in c:\\users\\yaswa\\anaconda3\\lib\\site-packages (from requests->dash) (2.0.7)\n",
      "Requirement already satisfied: certifi>=2017.4.17 in c:\\users\\yaswa\\anaconda3\\lib\\site-packages (from requests->dash) (2024.2.2)\n",
      "Requirement already satisfied: six>=1.7.0 in c:\\users\\yaswa\\appdata\\roaming\\python\\python311\\site-packages (from retrying->dash) (1.16.0)\n",
      "Requirement already satisfied: colorama in c:\\users\\yaswa\\appdata\\roaming\\python\\python311\\site-packages (from click>=8.0->Flask<3.1,>=1.0.4->dash) (0.4.6)\n",
      "Downloading dash-2.18.2-py3-none-any.whl (7.8 MB)\n",
      "   ---------------------------------------- 0.0/7.8 MB ? eta -:--:--\n",
      "   ---------------------------------------- 0.0/7.8 MB 653.6 kB/s eta 0:00:12\n",
      "    --------------------------------------- 0.1/7.8 MB 1.1 MB/s eta 0:00:08\n",
      "   - -------------------------------------- 0.2/7.8 MB 1.7 MB/s eta 0:00:05\n",
      "   -- ------------------------------------- 0.5/7.8 MB 2.8 MB/s eta 0:00:03\n",
      "   ---- ----------------------------------- 0.8/7.8 MB 3.5 MB/s eta 0:00:02\n",
      "   ------ --------------------------------- 1.3/7.8 MB 4.6 MB/s eta 0:00:02\n",
      "   --------- ------------------------------ 1.9/7.8 MB 5.8 MB/s eta 0:00:02\n",
      "   ------------- -------------------------- 2.5/7.8 MB 6.8 MB/s eta 0:00:01\n",
      "   ---------------- ----------------------- 3.2/7.8 MB 7.4 MB/s eta 0:00:01\n",
      "   ------------------- -------------------- 3.9/7.8 MB 8.2 MB/s eta 0:00:01\n",
      "   ---------------------- ----------------- 4.3/7.8 MB 8.6 MB/s eta 0:00:01\n",
      "   -------------------------- ------------- 5.1/7.8 MB 9.0 MB/s eta 0:00:01\n",
      "   ----------------------------- ---------- 5.7/7.8 MB 9.3 MB/s eta 0:00:01\n",
      "   -------------------------------- ------- 6.4/7.8 MB 9.7 MB/s eta 0:00:01\n",
      "   ---------------------------------- ----- 6.8/7.8 MB 9.8 MB/s eta 0:00:01\n",
      "   ---------------------------------- ----- 6.8/7.8 MB 9.8 MB/s eta 0:00:01\n",
      "   ---------------------------------------  7.6/7.8 MB 9.5 MB/s eta 0:00:01\n",
      "   ---------------------------------------- 7.8/7.8 MB 9.6 MB/s eta 0:00:00\n",
      "Downloading dash_core_components-2.0.0-py3-none-any.whl (3.8 kB)\n",
      "Downloading dash_html_components-2.0.0-py3-none-any.whl (4.1 kB)\n",
      "Downloading dash_table-5.0.0-py3-none-any.whl (3.9 kB)\n",
      "Downloading retrying-1.3.4-py3-none-any.whl (11 kB)\n",
      "Installing collected packages: dash-table, dash-html-components, dash-core-components, retrying, dash\n",
      "Successfully installed dash-2.18.2 dash-core-components-2.0.0 dash-html-components-2.0.0 dash-table-5.0.0 retrying-1.3.4\n"
     ]
    }
   ],
   "source": [
    "! pip install dash\n"
   ]
  },
  {
   "cell_type": "code",
   "execution_count": 5,
   "metadata": {
    "id": "7xEjTnS-v7pV"
   },
   "outputs": [],
   "source": [
    "import pandas as pd\n",
    "import plotly.express as px\n",
    "import dash\n",
    "from dash import dcc, html, Input, Output\n",
    "from sklearn.cluster import KMeans\n",
    "from sklearn.preprocessing import StandardScaler"
   ]
  },
  {
   "cell_type": "markdown",
   "metadata": {
    "id": "dKGf18Nxv-Gn"
   },
   "source": [
    "#### Load Dataset"
   ]
  },
  {
   "cell_type": "code",
   "execution_count": 10,
   "metadata": {
    "id": "k_v9ob9IwDA8"
   },
   "outputs": [],
   "source": [
    "file_path = \"Provider Sample DataSet MRP 2025 Spring.xlsx\"\n",
    "df = pd.read_excel(file_path, sheet_name=\"MetricData\")"
   ]
  },
  {
   "cell_type": "markdown",
   "metadata": {
    "id": "MnrD64vmwHFk"
   },
   "source": [
    "#### Data Cleaning"
   ]
  },
  {
   "cell_type": "code",
   "execution_count": 11,
   "metadata": {
    "id": "JmY8vmbIwL2O"
   },
   "outputs": [],
   "source": [
    "df.columns = df.columns.str.strip().str.replace(\" \", \"_\").str.lower()\n",
    "df[\"reportingperiodstartdate\"] = pd.to_datetime(df[\"reportingperiodstartdate\"], errors=\"coerce\")\n",
    "df[\"reportingperiodenddate\"] = pd.to_datetime(df[\"reportingperiodenddate\"], errors=\"coerce\")\n",
    "\n",
    "# Drop missing values\n",
    "df = df.dropna(subset=[\"value\", \"specialty\"])"
   ]
  },
  {
   "cell_type": "markdown",
   "metadata": {
    "id": "jj2jYe8zwSnP"
   },
   "source": [
    "### Machine Learning - Clustering Physicians by Workload"
   ]
  },
  {
   "cell_type": "code",
   "execution_count": 12,
   "metadata": {
    "id": "HLri3ExXwRd9"
   },
   "outputs": [
    {
     "name": "stderr",
     "output_type": "stream",
     "text": [
      "C:\\Users\\yaswa\\anaconda3\\Lib\\site-packages\\sklearn\\cluster\\_kmeans.py:870: FutureWarning:\n",
      "\n",
      "The default value of `n_init` will change from 10 to 'auto' in 1.4. Set the value of `n_init` explicitly to suppress the warning\n",
      "\n"
     ]
    }
   ],
   "source": [
    "scaler = StandardScaler()\n",
    "df[\"scaled_value\"] = scaler.fit_transform(df[[\"value\"]])\n",
    "kmeans = KMeans(n_clusters=3, random_state=42)\n",
    "df[\"cluster\"] = kmeans.fit_predict(df[[\"scaled_value\"]])"
   ]
  },
  {
   "cell_type": "markdown",
   "metadata": {
    "id": "9TLZ4ugwwblu"
   },
   "source": [
    "#### Initialize Dash App"
   ]
  },
  {
   "cell_type": "code",
   "execution_count": 9,
   "metadata": {
    "colab": {
     "base_uri": "https://localhost:8080/",
     "height": 859
    },
    "id": "vXzeVexKwiI1",
    "outputId": "03847f66-eb38-45fd-f695-f39e5889342e"
   },
   "outputs": [
    {
     "data": {
      "text/html": [
       "\n",
       "        <iframe\n",
       "            width=\"100%\"\n",
       "            height=\"650\"\n",
       "            src=\"http://127.0.0.1:8050/\"\n",
       "            frameborder=\"0\"\n",
       "            allowfullscreen\n",
       "            \n",
       "        ></iframe>\n",
       "        "
      ],
      "text/plain": [
       "<IPython.lib.display.IFrame at 0x24459d56a50>"
      ]
     },
     "metadata": {},
     "output_type": "display_data"
    },
    {
     "name": "stderr",
     "output_type": "stream",
     "text": [
      "C:\\Users\\yaswa\\anaconda3\\Lib\\site-packages\\_plotly_utils\\basevalidators.py:106: FutureWarning:\n",
      "\n",
      "The behavior of DatetimeProperties.to_pydatetime is deprecated, in a future version this will return a Series containing python datetime objects instead of an ndarray. To retain the old behavior, call `np.array` on the result\n",
      "\n",
      "C:\\Users\\yaswa\\anaconda3\\Lib\\site-packages\\_plotly_utils\\basevalidators.py:106: FutureWarning:\n",
      "\n",
      "The behavior of DatetimeProperties.to_pydatetime is deprecated, in a future version this will return a Series containing python datetime objects instead of an ndarray. To retain the old behavior, call `np.array` on the result\n",
      "\n",
      "C:\\Users\\yaswa\\anaconda3\\Lib\\site-packages\\_plotly_utils\\basevalidators.py:106: FutureWarning:\n",
      "\n",
      "The behavior of DatetimeProperties.to_pydatetime is deprecated, in a future version this will return a Series containing python datetime objects instead of an ndarray. To retain the old behavior, call `np.array` on the result\n",
      "\n"
     ]
    }
   ],
   "source": [
    "# Initialize Dash App\n",
    "app = dash.Dash(__name__)\n",
    "\n",
    "app.layout = html.Div([\n",
    "    html.H1(\"Physician Burnout Analysis Dashboard\"),\n",
    "\n",
    "    # Dropdown for Specialty Selection\n",
    "    html.Label(\"Select Specialty:\"),\n",
    "    dcc.Dropdown(\n",
    "        id=\"specialty-dropdown\",\n",
    "        options=[{\"label\": spec, \"value\": spec} for spec in df[\"specialty\"].unique()],\n",
    "        value=df[\"specialty\"].unique()[0],\n",
    "        multi=False\n",
    "    ),\n",
    "\n",
    "    # Line Chart\n",
    "    dcc.Graph(id=\"trend-graph\"),\n",
    "\n",
    "    # Scatter Plot\n",
    "    dcc.Graph(id=\"cluster-graph\")\n",
    "])\n",
    "\n",
    "# Callbacks to update charts\n",
    "@app.callback(\n",
    "    Output(\"trend-graph\", \"figure\"),\n",
    "    Input(\"specialty-dropdown\", \"value\")\n",
    ")\n",
    "def update_trend_chart(specialty):\n",
    "    df_filtered = df[df[\"specialty\"] == specialty]\n",
    "    fig = px.line(df_filtered, x=\"reportingperiodstartdate\", y=\"value\", title=f\"Workload Trend: {specialty}\")\n",
    "    return fig\n",
    "\n",
    "@app.callback(\n",
    "    Output(\"cluster-graph\", \"figure\"),\n",
    "    Input(\"specialty-dropdown\", \"value\")\n",
    ")\n",
    "def update_cluster_chart(specialty):\n",
    "    df_filtered = df[df[\"specialty\"] == specialty]\n",
    "    fig = px.scatter(df_filtered, x=\"reportingperiodstartdate\", y=\"value\", color=df_filtered[\"cluster\"].astype(str),\n",
    "                     title=f\"Clustering of Workload: {specialty}\")\n",
    "    return fig\n",
    "\n",
    "# Run App\n",
    "if __name__ == \"__main__\":\n",
    "    app.run_server(debug=True)"
   ]
  },
  {
   "cell_type": "code",
   "execution_count": null,
   "metadata": {
    "colab": {
     "base_uri": "https://localhost:8080/",
     "height": 1000
    },
    "id": "Szl83GvJuvBu",
    "outputId": "7b55acd7-3d05-4dd8-c479-6ef835462ae8"
   },
   "outputs": [],
   "source": []
  },
  {
   "cell_type": "code",
   "execution_count": null,
   "metadata": {},
   "outputs": [],
   "source": []
  }
 ],
 "metadata": {
  "colab": {
   "provenance": []
  },
  "kernelspec": {
   "display_name": "Python 3 (ipykernel)",
   "language": "python",
   "name": "python3"
  },
  "language_info": {
   "codemirror_mode": {
    "name": "ipython",
    "version": 3
   },
   "file_extension": ".py",
   "mimetype": "text/x-python",
   "name": "python",
   "nbconvert_exporter": "python",
   "pygments_lexer": "ipython3",
   "version": "3.11.7"
  }
 },
 "nbformat": 4,
 "nbformat_minor": 4
}
